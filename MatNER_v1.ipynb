{
  "nbformat": 4,
  "nbformat_minor": 0,
  "metadata": {
    "colab": {
      "name": "MatNER_v1.ipynb",
      "version": "0.3.2",
      "provenance": [],
      "collapsed_sections": []
    },
    "kernelspec": {
      "name": "python3",
      "display_name": "Python 3"
    },
    "accelerator": "GPU"
  },
  "cells": [
    {
      "cell_type": "markdown",
      "metadata": {
        "id": "boLhh_GqlCnp",
        "colab_type": "text"
      },
      "source": [
        "# Install packages"
      ]
    },
    {
      "cell_type": "code",
      "metadata": {
        "id": "5GyZ-lp3McOZ",
        "colab_type": "code",
        "colab": {}
      },
      "source": [
        "!pip3 install pytorch-transformers"
      ],
      "execution_count": 0,
      "outputs": []
    },
    {
      "cell_type": "code",
      "metadata": {
        "id": "2YIqF__rRYs_",
        "colab_type": "code",
        "colab": {}
      },
      "source": [
        "!pip3 install seqeval"
      ],
      "execution_count": 0,
      "outputs": []
    },
    {
      "cell_type": "code",
      "metadata": {
        "id": "raajdaEMot0t",
        "colab_type": "code",
        "colab": {}
      },
      "source": [
        "!pip3 install spacy"
      ],
      "execution_count": 0,
      "outputs": []
    },
    {
      "cell_type": "code",
      "metadata": {
        "id": "iEAWOeb1Lr1V",
        "colab_type": "code",
        "outputId": "2a2ad2aa-e4aa-47d9-bbc8-b6b2c73b06df",
        "colab": {
          "base_uri": "https://localhost:8080/",
          "height": 34
        }
      },
      "source": [
        "import pandas as pd\n",
        "import numpy as np\n",
        "import torch\n",
        "from tqdm import tqdm, trange\n",
        "from torch.optim import Adam\n",
        "from torch.utils.data import TensorDataset, DataLoader, RandomSampler, SequentialSampler\n",
        "from keras.preprocessing.sequence import pad_sequences\n",
        "from sklearn.model_selection import train_test_split\n",
        "from pytorch_transformers import BertTokenizer, BertConfig, BertForTokenClassification, AdamW"
      ],
      "execution_count": 4,
      "outputs": [
        {
          "output_type": "stream",
          "text": [
            "Using TensorFlow backend.\n"
          ],
          "name": "stderr"
        }
      ]
    },
    {
      "cell_type": "markdown",
      "metadata": {
        "id": "RukHsVjKlMMG",
        "colab_type": "text"
      },
      "source": [
        "# Load data"
      ]
    },
    {
      "cell_type": "code",
      "metadata": {
        "id": "RWUNbwXvL32c",
        "colab_type": "code",
        "colab": {}
      },
      "source": [
        "url = \"https://raw.githubusercontent.com/rpw199912j/MatBERT/master/mat_ner.csv\"\n",
        "data = pd.read_csv(url).fillna(\"O\")"
      ],
      "execution_count": 0,
      "outputs": []
    },
    {
      "cell_type": "code",
      "metadata": {
        "id": "dS3i-H2uNjln",
        "colab_type": "code",
        "outputId": "2398c357-5026-480a-e84d-10c47563da5b",
        "colab": {
          "base_uri": "https://localhost:8080/",
          "height": 359
        }
      },
      "source": [
        "data.head(10)"
      ],
      "execution_count": 6,
      "outputs": [
        {
          "output_type": "execute_result",
          "data": {
            "text/html": [
              "<div>\n",
              "<style scoped>\n",
              "    .dataframe tbody tr th:only-of-type {\n",
              "        vertical-align: middle;\n",
              "    }\n",
              "\n",
              "    .dataframe tbody tr th {\n",
              "        vertical-align: top;\n",
              "    }\n",
              "\n",
              "    .dataframe thead th {\n",
              "        text-align: right;\n",
              "    }\n",
              "</style>\n",
              "<table border=\"1\" class=\"dataframe\">\n",
              "  <thead>\n",
              "    <tr style=\"text-align: right;\">\n",
              "      <th></th>\n",
              "      <th>Sentence #</th>\n",
              "      <th>Word</th>\n",
              "      <th>Tag</th>\n",
              "    </tr>\n",
              "  </thead>\n",
              "  <tbody>\n",
              "    <tr>\n",
              "      <th>0</th>\n",
              "      <td>1</td>\n",
              "      <td>Magnetic</td>\n",
              "      <td>O</td>\n",
              "    </tr>\n",
              "    <tr>\n",
              "      <th>1</th>\n",
              "      <td>1</td>\n",
              "      <td>and</td>\n",
              "      <td>O</td>\n",
              "    </tr>\n",
              "    <tr>\n",
              "      <th>2</th>\n",
              "      <td>1</td>\n",
              "      <td>thermoelectric</td>\n",
              "      <td>O</td>\n",
              "    </tr>\n",
              "    <tr>\n",
              "      <th>3</th>\n",
              "      <td>1</td>\n",
              "      <td>properties</td>\n",
              "      <td>O</td>\n",
              "    </tr>\n",
              "    <tr>\n",
              "      <th>4</th>\n",
              "      <td>1</td>\n",
              "      <td>of</td>\n",
              "      <td>O</td>\n",
              "    </tr>\n",
              "    <tr>\n",
              "      <th>5</th>\n",
              "      <td>1</td>\n",
              "      <td>the</td>\n",
              "      <td>O</td>\n",
              "    </tr>\n",
              "    <tr>\n",
              "      <th>6</th>\n",
              "      <td>1</td>\n",
              "      <td>ternary</td>\n",
              "      <td>O</td>\n",
              "    </tr>\n",
              "    <tr>\n",
              "      <th>7</th>\n",
              "      <td>1</td>\n",
              "      <td>pseudo-hollandite</td>\n",
              "      <td>O</td>\n",
              "    </tr>\n",
              "    <tr>\n",
              "      <th>8</th>\n",
              "      <td>1</td>\n",
              "      <td>BaxCr5Se8</td>\n",
              "      <td>target</td>\n",
              "    </tr>\n",
              "    <tr>\n",
              "      <th>9</th>\n",
              "      <td>1</td>\n",
              "      <td>(</td>\n",
              "      <td>O</td>\n",
              "    </tr>\n",
              "  </tbody>\n",
              "</table>\n",
              "</div>"
            ],
            "text/plain": [
              "   Sentence #               Word     Tag\n",
              "0           1           Magnetic       O\n",
              "1           1                and       O\n",
              "2           1     thermoelectric       O\n",
              "3           1         properties       O\n",
              "4           1                 of       O\n",
              "5           1                the       O\n",
              "6           1            ternary       O\n",
              "7           1  pseudo-hollandite       O\n",
              "8           1          BaxCr5Se8  target\n",
              "9           1                  (       O"
            ]
          },
          "metadata": {
            "tags": []
          },
          "execution_count": 6
        }
      ]
    },
    {
      "cell_type": "markdown",
      "metadata": {
        "id": "jmBKJcwKlWIx",
        "colab_type": "text"
      },
      "source": [
        "# Pre-processing\n",
        "## Get the sentece and labels"
      ]
    },
    {
      "cell_type": "code",
      "metadata": {
        "id": "yh58-AQKPzcC",
        "colab_type": "code",
        "colab": {}
      },
      "source": [
        "class SentenceGetter(object):\n",
        "\n",
        "    def __init__(self, data):\n",
        "        self.n_sent = 1\n",
        "        self.data = data\n",
        "        self.empty = False\n",
        "        self.grouped = self.data.groupby(\"Sentence #\").apply(\n",
        "            lambda s: [(w, t) for w, t in zip(s[\"Word\"].values.tolist(),\n",
        "                                              s[\"Tag\"].values.tolist())])\n",
        "        self.sentences = [s for s in self.grouped]\n",
        "\n",
        "    def get_next(self):\n",
        "        try:\n",
        "            s = self.grouped[\"Sentence: {}\".format(self.n_sent)]\n",
        "            self.n_sent += 1\n",
        "            return s\n",
        "        except:\n",
        "            return None"
      ],
      "execution_count": 0,
      "outputs": []
    },
    {
      "cell_type": "code",
      "metadata": {
        "id": "xiUiVPw_P_Eh",
        "colab_type": "code",
        "colab": {}
      },
      "source": [
        "getter = SentenceGetter(data)"
      ],
      "execution_count": 0,
      "outputs": []
    },
    {
      "cell_type": "markdown",
      "metadata": {
        "id": "B570HX6gluxj",
        "colab_type": "text"
      },
      "source": [
        "### Take a look at the first sentence in the data"
      ]
    },
    {
      "cell_type": "code",
      "metadata": {
        "id": "HCqVMLzBQBtt",
        "colab_type": "code",
        "outputId": "46780011-e1bc-4090-a738-5db570a9f56c",
        "colab": {
          "base_uri": "https://localhost:8080/",
          "height": 34
        }
      },
      "source": [
        "sentences = [\" \".join([s[0].lower() for s in sent]) for sent in getter.sentences]\n",
        "print(sentences[0])"
      ],
      "execution_count": 9,
      "outputs": [
        {
          "output_type": "stream",
          "text": [
            "magnetic and thermoelectric properties of the ternary pseudo-hollandite baxcr5se8 ( 0.5 < x < 0.55 ) solid solution .\n"
          ],
          "name": "stdout"
        }
      ]
    },
    {
      "cell_type": "markdown",
      "metadata": {
        "id": "tGbdOVPDlzoL",
        "colab_type": "text"
      },
      "source": [
        "### Get the word-level label"
      ]
    },
    {
      "cell_type": "code",
      "metadata": {
        "id": "9NL1XLB4QJXC",
        "colab_type": "code",
        "outputId": "f7ebabd8-a3fd-474a-8aaa-ed51a93fa0f0",
        "colab": {
          "base_uri": "https://localhost:8080/",
          "height": 34
        }
      },
      "source": [
        "labels = [[s[1] for s in sent] for sent in getter.sentences]\n",
        "print(labels[0])"
      ],
      "execution_count": 10,
      "outputs": [
        {
          "output_type": "stream",
          "text": [
            "['O', 'O', 'O', 'O', 'O', 'O', 'O', 'O', 'target', 'O', 'number', 'O', 'O', 'O', 'number', 'O', 'O', 'O', 'O']\n"
          ],
          "name": "stdout"
        }
      ]
    },
    {
      "cell_type": "markdown",
      "metadata": {
        "id": "SVSpNhWumQXt",
        "colab_type": "text"
      },
      "source": [
        "Create a dictionary that maps each word label into a number"
      ]
    },
    {
      "cell_type": "code",
      "metadata": {
        "id": "li23ZlGcQMoF",
        "colab_type": "code",
        "outputId": "b8da827c-5316-4df4-b7bc-20a57e6bfe55",
        "colab": {
          "base_uri": "https://localhost:8080/",
          "height": 54
        }
      },
      "source": [
        "tags_vals = list(set(data[\"Tag\"].values))\n",
        "tag2idx = {t: i for i, t in enumerate(tags_vals)}\n",
        "print(tag2idx)"
      ],
      "execution_count": 11,
      "outputs": [
        {
          "output_type": "stream",
          "text": [
            "{'number': 0, 'O': 1, 'property-misc': 2, 'operation': 3, 'apparatus-property-type': 4, 'material': 5, 'unspecified-material': 6, 'precursor': 7, 'condition-unit': 8, 'property-type': 9, 'meta': 10, 'target': 11, 'amount-misc': 12, 'apparatus-descriptor': 13, 'brand': 14, 'nonrecipe-material': 15, 'solvent': 16, 'condition-misc': 17, 'synthesis-apparatus': 18, 'amount-unit': 19, 'reference': 20, 'apparatus-unit': 21, 'characterization-apparatus': 22, 'material-descriptor': 23, 'condition-type': 24, 'property-unit': 25, 'gas': 26}\n"
          ],
          "name": "stdout"
        }
      ]
    },
    {
      "cell_type": "markdown",
      "metadata": {
        "id": "C2_Kd4UDl8IW",
        "colab_type": "text"
      },
      "source": [
        "# Apply BERT model\n",
        "## Set constants and GPU processor"
      ]
    },
    {
      "cell_type": "code",
      "metadata": {
        "id": "rxvd4GboQPAN",
        "colab_type": "code",
        "colab": {}
      },
      "source": [
        "MAX_LEN = 64\n",
        "BATCH_SIZE = 32"
      ],
      "execution_count": 0,
      "outputs": []
    },
    {
      "cell_type": "code",
      "metadata": {
        "id": "Yb1JcroVQSb2",
        "colab_type": "code",
        "outputId": "be6949c2-b388-43aa-91b1-a4c5d2b6c2cb",
        "colab": {
          "base_uri": "https://localhost:8080/",
          "height": 34
        }
      },
      "source": [
        "device = torch.device(\"cuda\" if torch.cuda.is_available() else \"cpu\")\n",
        "n_gpu = torch.cuda.device_count()\n",
        "print(\"The number of GPU: {}\".format(n_gpu))"
      ],
      "execution_count": 13,
      "outputs": [
        {
          "output_type": "stream",
          "text": [
            "The number of GPU: 1\n"
          ],
          "name": "stdout"
        }
      ]
    },
    {
      "cell_type": "code",
      "metadata": {
        "id": "A3kaYA_cQUNj",
        "colab_type": "code",
        "outputId": "7fa064eb-bfe7-468d-96ac-02f8d5b1ec54",
        "colab": {
          "base_uri": "https://localhost:8080/",
          "height": 34
        }
      },
      "source": [
        "torch.cuda.get_device_name(0) "
      ],
      "execution_count": 14,
      "outputs": [
        {
          "output_type": "execute_result",
          "data": {
            "text/plain": [
              "'Tesla T4'"
            ]
          },
          "metadata": {
            "tags": []
          },
          "execution_count": 14
        }
      ]
    },
    {
      "cell_type": "markdown",
      "metadata": {
        "id": "Pw2Xrk8ymkAV",
        "colab_type": "text"
      },
      "source": [
        "## Get the pre-trained uncased word embeddings"
      ]
    },
    {
      "cell_type": "code",
      "metadata": {
        "id": "iVdF711yQXiQ",
        "colab_type": "code",
        "outputId": "ac7eae08-a529-4023-ad25-27f077f348e3",
        "colab": {
          "base_uri": "https://localhost:8080/",
          "height": 34
        }
      },
      "source": [
        "tokenizer = BertTokenizer.from_pretrained(\"bert-base-uncased\", do_lower_case=True)\n",
        "tokenizer.add_tokens([\"stirrer\", \"teflon\", \"autoclave\", \"degc\"])"
      ],
      "execution_count": 15,
      "outputs": [
        {
          "output_type": "execute_result",
          "data": {
            "text/plain": [
              "4"
            ]
          },
          "metadata": {
            "tags": []
          },
          "execution_count": 15
        }
      ]
    },
    {
      "cell_type": "markdown",
      "metadata": {
        "id": "L3gTiqvcnSyh",
        "colab_type": "text"
      },
      "source": [
        "## Tokenize all the sentences"
      ]
    },
    {
      "cell_type": "code",
      "metadata": {
        "id": "_03dHZlHQba7",
        "colab_type": "code",
        "outputId": "483632a2-bced-42be-fcdc-bf418cd34d01",
        "colab": {
          "base_uri": "https://localhost:8080/",
          "height": 71
        }
      },
      "source": [
        "print(sentences[1431])\n",
        "tokenized_text = [tokenizer.tokenize(sent) for sent in sentences]\n",
        "print(tokenized_text[1431])"
      ],
      "execution_count": 16,
      "outputs": [
        {
          "output_type": "stream",
          "text": [
            "after further stirring with a magnetic stirrer for 6 h at room temperature , the gel mixture was transferred to a teflon - lined stainless - steel autoclave and heated at 140 degc for 9 days under tumbling ( 60 rpm ) .\n",
            "['after', 'further', 'stirring', 'with', 'a', 'magnetic', 'stirrer', 'for', '6', 'h', 'at', 'room', 'temperature', ',', 'the', 'gel', 'mixture', 'was', 'transferred', 'to', 'a', 'teflon', '-', 'lined', 'stainless', '-', 'steel', 'autoclave', 'and', 'heated', 'at', '140', 'degc', 'for', '9', 'days', 'under', 'tumbling', '(', '60', 'rpm', ')', '.']\n"
          ],
          "name": "stdout"
        }
      ]
    },
    {
      "cell_type": "markdown",
      "metadata": {
        "id": "gTvSqQO1nYhT",
        "colab_type": "text"
      },
      "source": [
        "### Pad all the tokenized sentences and labels to the same length"
      ]
    },
    {
      "cell_type": "code",
      "metadata": {
        "id": "zcS_TwkkQdbA",
        "colab_type": "code",
        "outputId": "85bdb13e-1f8e-4de1-d7f6-1ae049cead30",
        "colab": {
          "base_uri": "https://localhost:8080/",
          "height": 170
        }
      },
      "source": [
        "input_ids = pad_sequences([tokenizer.convert_tokens_to_ids(txt) for txt in tokenized_text],\n",
        "                          maxlen=MAX_LEN, dtype=\"long\", truncating=\"post\", padding=\"post\")\n",
        "\n",
        "tags = pad_sequences([[tag2idx.get(l) for l in lab] for lab in labels],\n",
        "                     maxlen=MAX_LEN, value=tag2idx[\"O\"], dtype=\"long\", truncating=\"post\", padding=\"post\")\n",
        "\n",
        "print(input_ids[0])\n",
        "print(tags[0])"
      ],
      "execution_count": 17,
      "outputs": [
        {
          "output_type": "stream",
          "text": [
            "[ 8060  1998  1996 10867  8913  2571 22601  5144  1997  1996 28774 24041\n",
            " 18404  1011  7935  4221  8670  2595 26775  2629  3366  2620  1006  1014\n",
            "  1012  1019  1026  1060  1026  1014  1012  4583  1007  5024  5576  1012\n",
            "     0     0     0     0     0     0     0     0     0     0     0     0\n",
            "     0     0     0     0     0     0     0     0     0     0     0     0\n",
            "     0     0     0     0]\n",
            "[ 1  1  1  1  1  1  1  1 11  1  0  1  1  1  0  1  1  1  1  1  1  1  1  1\n",
            "  1  1  1  1  1  1  1  1  1  1  1  1  1  1  1  1  1  1  1  1  1  1  1  1\n",
            "  1  1  1  1  1  1  1  1  1  1  1  1  1  1  1  1]\n"
          ],
          "name": "stdout"
        }
      ]
    },
    {
      "cell_type": "markdown",
      "metadata": {
        "id": "gxt1rB1-nfb4",
        "colab_type": "text"
      },
      "source": [
        "### Create attention masks for the attention model"
      ]
    },
    {
      "cell_type": "code",
      "metadata": {
        "id": "ScbJIMA_QoCB",
        "colab_type": "code",
        "colab": {}
      },
      "source": [
        "attention_masks = [[float(i > 0) for i in ii] for ii in input_ids]"
      ],
      "execution_count": 0,
      "outputs": []
    },
    {
      "cell_type": "markdown",
      "metadata": {
        "id": "07y1_vkqnrxd",
        "colab_type": "text"
      },
      "source": [
        "## Split the data into 90% training set and 10% validation set"
      ]
    },
    {
      "cell_type": "code",
      "metadata": {
        "id": "fp-GJTh5Qzc5",
        "colab_type": "code",
        "colab": {}
      },
      "source": [
        "tr_inputs, val_inputs, tr_tags, val_tags = train_test_split(input_ids, tags,\n",
        "                                                            random_state=2018, test_size=0.1)\n",
        "tr_masks, val_masks, _, _ = train_test_split(attention_masks, input_ids,\n",
        "                                             random_state=2018, test_size=0.1)"
      ],
      "execution_count": 0,
      "outputs": []
    },
    {
      "cell_type": "markdown",
      "metadata": {
        "id": "zqhRtq6Cn4nh",
        "colab_type": "text"
      },
      "source": [
        "## Convert the data into Torch tensor format for later processing"
      ]
    },
    {
      "cell_type": "code",
      "metadata": {
        "id": "1pPXMhDnQ2Si",
        "colab_type": "code",
        "colab": {}
      },
      "source": [
        "tr_inputs = torch.tensor(tr_inputs)\n",
        "val_inputs = torch.tensor(val_inputs)\n",
        "tr_tags = torch.tensor(tr_tags)\n",
        "val_tags = torch.tensor(val_tags)\n",
        "tr_masks = torch.tensor(tr_masks)\n",
        "val_masks = torch.tensor(val_masks)"
      ],
      "execution_count": 0,
      "outputs": []
    },
    {
      "cell_type": "markdown",
      "metadata": {
        "id": "a2Q5jaqUoGkW",
        "colab_type": "text"
      },
      "source": [
        "### Define the training and validation data in the DataLoader for NLP model"
      ]
    },
    {
      "cell_type": "code",
      "metadata": {
        "id": "uVMsxh_8Q4XV",
        "colab_type": "code",
        "colab": {}
      },
      "source": [
        "train_data = TensorDataset(tr_inputs, tr_masks, tr_tags)\n",
        "train_sampler = RandomSampler(train_data)\n",
        "train_dataloader = DataLoader(train_data, sampler=train_sampler, batch_size=BATCH_SIZE)\n",
        "\n",
        "valid_data = TensorDataset(val_inputs, val_masks, val_tags)\n",
        "valid_sampler = SequentialSampler(valid_data)\n",
        "valid_dataloader = DataLoader(valid_data, sampler=valid_sampler, batch_size=BATCH_SIZE)"
      ],
      "execution_count": 0,
      "outputs": []
    },
    {
      "cell_type": "markdown",
      "metadata": {
        "id": "DARbsr9XoYYt",
        "colab_type": "text"
      },
      "source": [
        "# Finetuning the BERT model"
      ]
    },
    {
      "cell_type": "code",
      "metadata": {
        "id": "F3k2YoHNQ7TJ",
        "colab_type": "code",
        "outputId": "49a77473-a7a6-4847-bcf2-0a0268a45161",
        "colab": {
          "base_uri": "https://localhost:8080/",
          "height": 34
        }
      },
      "source": [
        "model = BertForTokenClassification.from_pretrained(\"bert-base-uncased\", num_labels=len(tag2idx))\n",
        "model.resize_token_embeddings(len(tokenizer))"
      ],
      "execution_count": 22,
      "outputs": [
        {
          "output_type": "execute_result",
          "data": {
            "text/plain": [
              "Embedding(30526, 768)"
            ]
          },
          "metadata": {
            "tags": []
          },
          "execution_count": 22
        }
      ]
    },
    {
      "cell_type": "markdown",
      "metadata": {
        "id": "NWzmE7N6oc14",
        "colab_type": "text"
      },
      "source": [
        "## Load the data into GPU"
      ]
    },
    {
      "cell_type": "code",
      "metadata": {
        "id": "gYb4Pb0XRCZP",
        "colab_type": "code",
        "outputId": "5990de1b-4540-45ee-a16d-7ec33c639bca",
        "colab": {
          "base_uri": "https://localhost:8080/",
          "height": 1000
        }
      },
      "source": [
        "model.cuda()"
      ],
      "execution_count": 23,
      "outputs": [
        {
          "output_type": "execute_result",
          "data": {
            "text/plain": [
              "BertForTokenClassification(\n",
              "  (bert): BertModel(\n",
              "    (embeddings): BertEmbeddings(\n",
              "      (word_embeddings): Embedding(30526, 768)\n",
              "      (position_embeddings): Embedding(512, 768)\n",
              "      (token_type_embeddings): Embedding(2, 768)\n",
              "      (LayerNorm): BertLayerNorm()\n",
              "      (dropout): Dropout(p=0.1)\n",
              "    )\n",
              "    (encoder): BertEncoder(\n",
              "      (layer): ModuleList(\n",
              "        (0): BertLayer(\n",
              "          (attention): BertAttention(\n",
              "            (self): BertSelfAttention(\n",
              "              (query): Linear(in_features=768, out_features=768, bias=True)\n",
              "              (key): Linear(in_features=768, out_features=768, bias=True)\n",
              "              (value): Linear(in_features=768, out_features=768, bias=True)\n",
              "              (dropout): Dropout(p=0.1)\n",
              "            )\n",
              "            (output): BertSelfOutput(\n",
              "              (dense): Linear(in_features=768, out_features=768, bias=True)\n",
              "              (LayerNorm): BertLayerNorm()\n",
              "              (dropout): Dropout(p=0.1)\n",
              "            )\n",
              "          )\n",
              "          (intermediate): BertIntermediate(\n",
              "            (dense): Linear(in_features=768, out_features=3072, bias=True)\n",
              "          )\n",
              "          (output): BertOutput(\n",
              "            (dense): Linear(in_features=3072, out_features=768, bias=True)\n",
              "            (LayerNorm): BertLayerNorm()\n",
              "            (dropout): Dropout(p=0.1)\n",
              "          )\n",
              "        )\n",
              "        (1): BertLayer(\n",
              "          (attention): BertAttention(\n",
              "            (self): BertSelfAttention(\n",
              "              (query): Linear(in_features=768, out_features=768, bias=True)\n",
              "              (key): Linear(in_features=768, out_features=768, bias=True)\n",
              "              (value): Linear(in_features=768, out_features=768, bias=True)\n",
              "              (dropout): Dropout(p=0.1)\n",
              "            )\n",
              "            (output): BertSelfOutput(\n",
              "              (dense): Linear(in_features=768, out_features=768, bias=True)\n",
              "              (LayerNorm): BertLayerNorm()\n",
              "              (dropout): Dropout(p=0.1)\n",
              "            )\n",
              "          )\n",
              "          (intermediate): BertIntermediate(\n",
              "            (dense): Linear(in_features=768, out_features=3072, bias=True)\n",
              "          )\n",
              "          (output): BertOutput(\n",
              "            (dense): Linear(in_features=3072, out_features=768, bias=True)\n",
              "            (LayerNorm): BertLayerNorm()\n",
              "            (dropout): Dropout(p=0.1)\n",
              "          )\n",
              "        )\n",
              "        (2): BertLayer(\n",
              "          (attention): BertAttention(\n",
              "            (self): BertSelfAttention(\n",
              "              (query): Linear(in_features=768, out_features=768, bias=True)\n",
              "              (key): Linear(in_features=768, out_features=768, bias=True)\n",
              "              (value): Linear(in_features=768, out_features=768, bias=True)\n",
              "              (dropout): Dropout(p=0.1)\n",
              "            )\n",
              "            (output): BertSelfOutput(\n",
              "              (dense): Linear(in_features=768, out_features=768, bias=True)\n",
              "              (LayerNorm): BertLayerNorm()\n",
              "              (dropout): Dropout(p=0.1)\n",
              "            )\n",
              "          )\n",
              "          (intermediate): BertIntermediate(\n",
              "            (dense): Linear(in_features=768, out_features=3072, bias=True)\n",
              "          )\n",
              "          (output): BertOutput(\n",
              "            (dense): Linear(in_features=3072, out_features=768, bias=True)\n",
              "            (LayerNorm): BertLayerNorm()\n",
              "            (dropout): Dropout(p=0.1)\n",
              "          )\n",
              "        )\n",
              "        (3): BertLayer(\n",
              "          (attention): BertAttention(\n",
              "            (self): BertSelfAttention(\n",
              "              (query): Linear(in_features=768, out_features=768, bias=True)\n",
              "              (key): Linear(in_features=768, out_features=768, bias=True)\n",
              "              (value): Linear(in_features=768, out_features=768, bias=True)\n",
              "              (dropout): Dropout(p=0.1)\n",
              "            )\n",
              "            (output): BertSelfOutput(\n",
              "              (dense): Linear(in_features=768, out_features=768, bias=True)\n",
              "              (LayerNorm): BertLayerNorm()\n",
              "              (dropout): Dropout(p=0.1)\n",
              "            )\n",
              "          )\n",
              "          (intermediate): BertIntermediate(\n",
              "            (dense): Linear(in_features=768, out_features=3072, bias=True)\n",
              "          )\n",
              "          (output): BertOutput(\n",
              "            (dense): Linear(in_features=3072, out_features=768, bias=True)\n",
              "            (LayerNorm): BertLayerNorm()\n",
              "            (dropout): Dropout(p=0.1)\n",
              "          )\n",
              "        )\n",
              "        (4): BertLayer(\n",
              "          (attention): BertAttention(\n",
              "            (self): BertSelfAttention(\n",
              "              (query): Linear(in_features=768, out_features=768, bias=True)\n",
              "              (key): Linear(in_features=768, out_features=768, bias=True)\n",
              "              (value): Linear(in_features=768, out_features=768, bias=True)\n",
              "              (dropout): Dropout(p=0.1)\n",
              "            )\n",
              "            (output): BertSelfOutput(\n",
              "              (dense): Linear(in_features=768, out_features=768, bias=True)\n",
              "              (LayerNorm): BertLayerNorm()\n",
              "              (dropout): Dropout(p=0.1)\n",
              "            )\n",
              "          )\n",
              "          (intermediate): BertIntermediate(\n",
              "            (dense): Linear(in_features=768, out_features=3072, bias=True)\n",
              "          )\n",
              "          (output): BertOutput(\n",
              "            (dense): Linear(in_features=3072, out_features=768, bias=True)\n",
              "            (LayerNorm): BertLayerNorm()\n",
              "            (dropout): Dropout(p=0.1)\n",
              "          )\n",
              "        )\n",
              "        (5): BertLayer(\n",
              "          (attention): BertAttention(\n",
              "            (self): BertSelfAttention(\n",
              "              (query): Linear(in_features=768, out_features=768, bias=True)\n",
              "              (key): Linear(in_features=768, out_features=768, bias=True)\n",
              "              (value): Linear(in_features=768, out_features=768, bias=True)\n",
              "              (dropout): Dropout(p=0.1)\n",
              "            )\n",
              "            (output): BertSelfOutput(\n",
              "              (dense): Linear(in_features=768, out_features=768, bias=True)\n",
              "              (LayerNorm): BertLayerNorm()\n",
              "              (dropout): Dropout(p=0.1)\n",
              "            )\n",
              "          )\n",
              "          (intermediate): BertIntermediate(\n",
              "            (dense): Linear(in_features=768, out_features=3072, bias=True)\n",
              "          )\n",
              "          (output): BertOutput(\n",
              "            (dense): Linear(in_features=3072, out_features=768, bias=True)\n",
              "            (LayerNorm): BertLayerNorm()\n",
              "            (dropout): Dropout(p=0.1)\n",
              "          )\n",
              "        )\n",
              "        (6): BertLayer(\n",
              "          (attention): BertAttention(\n",
              "            (self): BertSelfAttention(\n",
              "              (query): Linear(in_features=768, out_features=768, bias=True)\n",
              "              (key): Linear(in_features=768, out_features=768, bias=True)\n",
              "              (value): Linear(in_features=768, out_features=768, bias=True)\n",
              "              (dropout): Dropout(p=0.1)\n",
              "            )\n",
              "            (output): BertSelfOutput(\n",
              "              (dense): Linear(in_features=768, out_features=768, bias=True)\n",
              "              (LayerNorm): BertLayerNorm()\n",
              "              (dropout): Dropout(p=0.1)\n",
              "            )\n",
              "          )\n",
              "          (intermediate): BertIntermediate(\n",
              "            (dense): Linear(in_features=768, out_features=3072, bias=True)\n",
              "          )\n",
              "          (output): BertOutput(\n",
              "            (dense): Linear(in_features=3072, out_features=768, bias=True)\n",
              "            (LayerNorm): BertLayerNorm()\n",
              "            (dropout): Dropout(p=0.1)\n",
              "          )\n",
              "        )\n",
              "        (7): BertLayer(\n",
              "          (attention): BertAttention(\n",
              "            (self): BertSelfAttention(\n",
              "              (query): Linear(in_features=768, out_features=768, bias=True)\n",
              "              (key): Linear(in_features=768, out_features=768, bias=True)\n",
              "              (value): Linear(in_features=768, out_features=768, bias=True)\n",
              "              (dropout): Dropout(p=0.1)\n",
              "            )\n",
              "            (output): BertSelfOutput(\n",
              "              (dense): Linear(in_features=768, out_features=768, bias=True)\n",
              "              (LayerNorm): BertLayerNorm()\n",
              "              (dropout): Dropout(p=0.1)\n",
              "            )\n",
              "          )\n",
              "          (intermediate): BertIntermediate(\n",
              "            (dense): Linear(in_features=768, out_features=3072, bias=True)\n",
              "          )\n",
              "          (output): BertOutput(\n",
              "            (dense): Linear(in_features=3072, out_features=768, bias=True)\n",
              "            (LayerNorm): BertLayerNorm()\n",
              "            (dropout): Dropout(p=0.1)\n",
              "          )\n",
              "        )\n",
              "        (8): BertLayer(\n",
              "          (attention): BertAttention(\n",
              "            (self): BertSelfAttention(\n",
              "              (query): Linear(in_features=768, out_features=768, bias=True)\n",
              "              (key): Linear(in_features=768, out_features=768, bias=True)\n",
              "              (value): Linear(in_features=768, out_features=768, bias=True)\n",
              "              (dropout): Dropout(p=0.1)\n",
              "            )\n",
              "            (output): BertSelfOutput(\n",
              "              (dense): Linear(in_features=768, out_features=768, bias=True)\n",
              "              (LayerNorm): BertLayerNorm()\n",
              "              (dropout): Dropout(p=0.1)\n",
              "            )\n",
              "          )\n",
              "          (intermediate): BertIntermediate(\n",
              "            (dense): Linear(in_features=768, out_features=3072, bias=True)\n",
              "          )\n",
              "          (output): BertOutput(\n",
              "            (dense): Linear(in_features=3072, out_features=768, bias=True)\n",
              "            (LayerNorm): BertLayerNorm()\n",
              "            (dropout): Dropout(p=0.1)\n",
              "          )\n",
              "        )\n",
              "        (9): BertLayer(\n",
              "          (attention): BertAttention(\n",
              "            (self): BertSelfAttention(\n",
              "              (query): Linear(in_features=768, out_features=768, bias=True)\n",
              "              (key): Linear(in_features=768, out_features=768, bias=True)\n",
              "              (value): Linear(in_features=768, out_features=768, bias=True)\n",
              "              (dropout): Dropout(p=0.1)\n",
              "            )\n",
              "            (output): BertSelfOutput(\n",
              "              (dense): Linear(in_features=768, out_features=768, bias=True)\n",
              "              (LayerNorm): BertLayerNorm()\n",
              "              (dropout): Dropout(p=0.1)\n",
              "            )\n",
              "          )\n",
              "          (intermediate): BertIntermediate(\n",
              "            (dense): Linear(in_features=768, out_features=3072, bias=True)\n",
              "          )\n",
              "          (output): BertOutput(\n",
              "            (dense): Linear(in_features=3072, out_features=768, bias=True)\n",
              "            (LayerNorm): BertLayerNorm()\n",
              "            (dropout): Dropout(p=0.1)\n",
              "          )\n",
              "        )\n",
              "        (10): BertLayer(\n",
              "          (attention): BertAttention(\n",
              "            (self): BertSelfAttention(\n",
              "              (query): Linear(in_features=768, out_features=768, bias=True)\n",
              "              (key): Linear(in_features=768, out_features=768, bias=True)\n",
              "              (value): Linear(in_features=768, out_features=768, bias=True)\n",
              "              (dropout): Dropout(p=0.1)\n",
              "            )\n",
              "            (output): BertSelfOutput(\n",
              "              (dense): Linear(in_features=768, out_features=768, bias=True)\n",
              "              (LayerNorm): BertLayerNorm()\n",
              "              (dropout): Dropout(p=0.1)\n",
              "            )\n",
              "          )\n",
              "          (intermediate): BertIntermediate(\n",
              "            (dense): Linear(in_features=768, out_features=3072, bias=True)\n",
              "          )\n",
              "          (output): BertOutput(\n",
              "            (dense): Linear(in_features=3072, out_features=768, bias=True)\n",
              "            (LayerNorm): BertLayerNorm()\n",
              "            (dropout): Dropout(p=0.1)\n",
              "          )\n",
              "        )\n",
              "        (11): BertLayer(\n",
              "          (attention): BertAttention(\n",
              "            (self): BertSelfAttention(\n",
              "              (query): Linear(in_features=768, out_features=768, bias=True)\n",
              "              (key): Linear(in_features=768, out_features=768, bias=True)\n",
              "              (value): Linear(in_features=768, out_features=768, bias=True)\n",
              "              (dropout): Dropout(p=0.1)\n",
              "            )\n",
              "            (output): BertSelfOutput(\n",
              "              (dense): Linear(in_features=768, out_features=768, bias=True)\n",
              "              (LayerNorm): BertLayerNorm()\n",
              "              (dropout): Dropout(p=0.1)\n",
              "            )\n",
              "          )\n",
              "          (intermediate): BertIntermediate(\n",
              "            (dense): Linear(in_features=768, out_features=3072, bias=True)\n",
              "          )\n",
              "          (output): BertOutput(\n",
              "            (dense): Linear(in_features=3072, out_features=768, bias=True)\n",
              "            (LayerNorm): BertLayerNorm()\n",
              "            (dropout): Dropout(p=0.1)\n",
              "          )\n",
              "        )\n",
              "      )\n",
              "    )\n",
              "    (pooler): BertPooler(\n",
              "      (dense): Linear(in_features=768, out_features=768, bias=True)\n",
              "      (activation): Tanh()\n",
              "    )\n",
              "  )\n",
              "  (dropout): Dropout(p=0.1)\n",
              "  (classifier): Linear(in_features=768, out_features=27, bias=True)\n",
              ")"
            ]
          },
          "metadata": {
            "tags": []
          },
          "execution_count": 23
        }
      ]
    },
    {
      "cell_type": "code",
      "metadata": {
        "id": "-t-u8x22RLEz",
        "colab_type": "code",
        "colab": {}
      },
      "source": [
        "FULL_FINETUNING = True\n",
        "if FULL_FINETUNING:\n",
        "    param_optimizer = list(model.named_parameters())\n",
        "    no_decay = ['bias', 'gamma', 'beta']\n",
        "    optimizer_grouped_parameters = [\n",
        "        {'params': [p for n, p in param_optimizer if not any(nd in n for nd in no_decay)],\n",
        "         'weight_decay_rate': 0.01},\n",
        "        {'params': [p for n, p in param_optimizer if any(nd in n for nd in no_decay)],\n",
        "         'weight_decay_rate': 0.0}\n",
        "    ]\n",
        "else:\n",
        "    param_optimizer = list(model.classifier.named_parameters()) \n",
        "    optimizer_grouped_parameters = [{\"params\": [p for n, p in param_optimizer]}]\n",
        "# USE ADAM for gradient descent\n",
        "optimizer = Adam(optimizer_grouped_parameters, lr=3e-5)"
      ],
      "execution_count": 0,
      "outputs": []
    },
    {
      "cell_type": "markdown",
      "metadata": {
        "id": "38XQK6LSovt_",
        "colab_type": "text"
      },
      "source": [
        "## Define metrics for finetuning"
      ]
    },
    {
      "cell_type": "code",
      "metadata": {
        "id": "WLQ3PoTbRT2H",
        "colab_type": "code",
        "colab": {}
      },
      "source": [
        "from seqeval.metrics import f1_score\n",
        "\n",
        "def flat_accuracy(preds, labels):\n",
        "    pred_flat = np.argmax(preds, axis=2).flatten()\n",
        "    labels_flat = labels.flatten()\n",
        "    return np.sum(pred_flat == labels_flat) / len(labels_flat)"
      ],
      "execution_count": 0,
      "outputs": []
    },
    {
      "cell_type": "code",
      "metadata": {
        "id": "-wN7VWZ6Rrnh",
        "colab_type": "code",
        "colab": {}
      },
      "source": [
        "epochs = 5\n",
        "max_grad_norm = 1.0"
      ],
      "execution_count": 0,
      "outputs": []
    },
    {
      "cell_type": "code",
      "metadata": {
        "id": "SFnTM9KlRhXK",
        "colab_type": "code",
        "outputId": "7754d2df-4572-4c72-9613-c09e7242146b",
        "colab": {
          "base_uri": "https://localhost:8080/",
          "height": 374
        }
      },
      "source": [
        "for _ in trange(epochs, desc=\"Epoch\"):\n",
        "    model.train()\n",
        "    tr_loss = 0\n",
        "    nb_tr_examples, nb_tr_steps = 0, 0\n",
        "    for step, batch in enumerate(train_dataloader):\n",
        "        # Use batch training to speed up training speed\n",
        "        batch = tuple(t.to(device) for t in batch)\n",
        "        b_input_ids, b_input_mask, b_labels = batch\n",
        "        # Forward-prop pass and loss computing\n",
        "        loss, _ = model(b_input_ids, token_type_ids=None,\n",
        "                     attention_mask=b_input_mask, labels=b_labels)\n",
        "        # Back-prop\n",
        "        loss.backward()\n",
        "        # track training loss\n",
        "        tr_loss += loss.item()\n",
        "        nb_tr_examples += b_input_ids.size(0)\n",
        "        nb_tr_steps += 1\n",
        "        # Gradient clipping to prevent gradient explosion\n",
        "        torch.nn.utils.clip_grad_norm_(parameters=model.parameters(), \n",
        "                                       max_norm=max_grad_norm)\n",
        "        # Update parameters\n",
        "        optimizer.step()\n",
        "        model.zero_grad()\n",
        "    print(\"Avg Training Loss Per Epoch: {}\".format(tr_loss/nb_tr_steps))\n",
        "\n",
        "    # Validation\n",
        "    model.eval()\n",
        "    eval_loss, eval_accuracy = 0, 0\n",
        "    nb_eval_steps, nb_eval_examples = 0, 0\n",
        "    predictions, true_labels = [], []\n",
        "    for batch in valid_dataloader:\n",
        "        batch = tuple(t.to(device) for t in batch)\n",
        "        b_input_ids, b_input_mask, b_labels = batch\n",
        "\n",
        "        with torch.no_grad():\n",
        "            outputs = model(b_input_ids, token_type_ids=None,\n",
        "                            attention_mask=b_input_mask, labels=b_labels)\n",
        "            tmp_eval_loss, logits = outputs[:2]\n",
        "        logits = logits.detach().cpu().numpy()\n",
        "        label_ids = b_labels.to(\"cpu\").numpy()\n",
        "        predictions.extend([list(p) for p in np.argmax(logits, axis=2)])\n",
        "        true_labels.append(label_ids)\n",
        "\n",
        "        tmp_eval_accuracy = flat_accuracy(logits, label_ids)\n",
        "\n",
        "        eval_loss += tmp_eval_loss.mean().item()\n",
        "        eval_accuracy += tmp_eval_accuracy\n",
        "\n",
        "        nb_eval_examples += b_input_ids.size(0)\n",
        "        nb_eval_steps += 1\n",
        "    eval_loss = eval_loss / nb_eval_steps\n",
        "    print(\"Validation loss: {}\".format(eval_loss))\n",
        "    print(\"Validation accuracy: {}\".format(eval_accuracy/nb_eval_steps))\n",
        "    pred_tags = [tags_vals[p_i] for p in predictions for p_i in p]\n",
        "    valid_tags = [tags_vals[l_ii] for l in true_labels for l_i in l for l_ii in l_i]\n",
        "    print(\"F1 score: {}\".format(f1_score(pred_tags, valid_tags)))"
      ],
      "execution_count": 27,
      "outputs": [
        {
          "output_type": "stream",
          "text": [
            "\rEpoch:   0%|          | 0/5 [00:00<?, ?it/s]"
          ],
          "name": "stderr"
        },
        {
          "output_type": "stream",
          "text": [
            "Avg Training Loss Per Epoch: 1.7151688298241037\n"
          ],
          "name": "stdout"
        },
        {
          "output_type": "stream",
          "text": [
            "\rEpoch:  20%|██        | 1/5 [00:26<01:46, 26.64s/it]"
          ],
          "name": "stderr"
        },
        {
          "output_type": "stream",
          "text": [
            "Validation loss: 1.4318931443350655\n",
            "Validation accuracy: 0.80447265625\n",
            "F1 score: 0.004655493482309125\n",
            "Avg Training Loss Per Epoch: 1.3479581445944113\n"
          ],
          "name": "stdout"
        },
        {
          "output_type": "stream",
          "text": [
            "\rEpoch:  40%|████      | 2/5 [00:54<01:20, 26.88s/it]"
          ],
          "name": "stderr"
        },
        {
          "output_type": "stream",
          "text": [
            "Validation loss: 1.2369588613510132\n",
            "Validation accuracy: 0.7838337053571429\n",
            "F1 score: 0.11196105702364394\n",
            "Avg Training Loss Per Epoch: 1.1667899206036427\n"
          ],
          "name": "stdout"
        },
        {
          "output_type": "stream",
          "text": [
            "\rEpoch:  60%|██████    | 3/5 [01:21<00:54, 27.15s/it]"
          ],
          "name": "stderr"
        },
        {
          "output_type": "stream",
          "text": [
            "Validation loss: 1.1222437449863978\n",
            "Validation accuracy: 0.7748939732142858\n",
            "F1 score: 0.15112651646447142\n",
            "Avg Training Loss Per Epoch: 1.049361505469338\n"
          ],
          "name": "stdout"
        },
        {
          "output_type": "stream",
          "text": [
            "\rEpoch:  80%|████████  | 4/5 [01:49<00:27, 27.20s/it]"
          ],
          "name": "stderr"
        },
        {
          "output_type": "stream",
          "text": [
            "Validation loss: 1.06821186201913\n",
            "Validation accuracy: 0.7451757812500001\n",
            "F1 score: 0.1746617466174662\n",
            "Avg Training Loss Per Epoch: 0.9476961786629724\n"
          ],
          "name": "stdout"
        },
        {
          "output_type": "stream",
          "text": [
            "\rEpoch: 100%|██████████| 5/5 [02:16<00:00, 27.22s/it]"
          ],
          "name": "stderr"
        },
        {
          "output_type": "stream",
          "text": [
            "Validation loss: 1.006590826170785\n",
            "Validation accuracy: 0.7338002232142857\n",
            "F1 score: 0.1978655898471301\n"
          ],
          "name": "stdout"
        },
        {
          "output_type": "stream",
          "text": [
            "\n"
          ],
          "name": "stderr"
        }
      ]
    },
    {
      "cell_type": "markdown",
      "metadata": {
        "id": "6obVhAulo9hz",
        "colab_type": "text"
      },
      "source": [
        "## Evaluate the model"
      ]
    },
    {
      "cell_type": "code",
      "metadata": {
        "id": "N5jUJa2uRnMt",
        "colab_type": "code",
        "outputId": "5e5ed7b6-61fd-46f2-9823-cdd125fc344c",
        "colab": {
          "base_uri": "https://localhost:8080/",
          "height": 1000
        }
      },
      "source": [
        "model.eval()\n",
        "predictions = []\n",
        "true_labels = []\n",
        "eval_loss, eval_accuracy = 0, 0\n",
        "nb_eval_steps, nb_eval_examples = 0, 0\n",
        "for batch in valid_dataloader:\n",
        "    batch = tuple(t.to(device) for t in batch)\n",
        "    b_input_ids, b_input_mask, b_labels = batch\n",
        "    print(b_input_ids)\n",
        "    print(b_input_ids[1,:].tolist())\n",
        "    with torch.no_grad():\n",
        "        tmp_eval_loss, logits = model(b_input_ids, token_type_ids=None,\n",
        "                                      attention_mask=b_input_mask, labels=b_labels)[:2]\n",
        "        \n",
        "    logits = logits.detach().cpu().numpy()\n",
        "    predictions.extend([list(p) for p in np.argmax(logits, axis=2)])\n",
        "    label_ids = b_labels.to('cpu').numpy()\n",
        "    true_labels.append(label_ids)\n",
        "    tmp_eval_accuracy = flat_accuracy(logits, label_ids)\n",
        "\n",
        "    eval_loss += tmp_eval_loss.mean().item()\n",
        "    eval_accuracy += tmp_eval_accuracy\n",
        "\n",
        "    nb_eval_examples += b_input_ids.size(0)\n",
        "    nb_eval_steps += 1\n",
        "\n",
        "pred_tags = [[tags_vals[p_i] for p_i in p] for p in predictions]\n",
        "valid_tags = [[tags_vals[l_ii] for l_ii in l_i] for l in true_labels for l_i in l ]\n",
        "print(\"Validation loss: {}\".format(eval_loss/nb_eval_steps))\n",
        "print(\"Validation Accuracy: {}\".format(eval_accuracy/nb_eval_steps))\n",
        "print(\"Validation F1-Score: {}\".format(f1_score(pred_tags, valid_tags)))"
      ],
      "execution_count": 28,
      "outputs": [
        {
          "output_type": "stream",
          "text": [
            "tensor([[ 3525,  1010,  1996,  ...,     0,     0,     0],\n",
            "        [ 2044,  2582, 18385,  ...,     0,     0,     0],\n",
            "        [ 1996,  9059,  3815,  ...,     0,     0,     0],\n",
            "        ...,\n",
            "        [ 2005, 29248,  2487,  ...,     0,     0,     0],\n",
            "        [ 1061,  2497,  2509,  ...,     0,     0,     0],\n",
            "        [ 8915,  6494,  8458,  ...,  2656,  1033,  1012]], device='cuda:0')\n",
            "[2044, 2582, 18385, 2007, 1037, 8060, 30522, 2005, 1020, 1044, 2012, 2282, 4860, 1010, 1996, 21500, 8150, 2001, 4015, 2000, 1037, 30523, 1011, 7732, 18676, 1011, 3886, 30524, 1998, 9685, 2012, 8574, 30525, 2005, 1023, 2420, 2104, 21552, 1006, 3438, 11575, 1007, 1012, 0, 0, 0, 0, 0, 0, 0, 0, 0, 0, 0, 0, 0, 0, 0, 0, 0, 0, 0, 0, 0]\n",
            "tensor([[ 3479,  9898,  2015,  ...,     0,     0,     0],\n",
            "        [ 1996, 13749, 12868,  ...,     0,     0,     0],\n",
            "        [ 1996, 28573,  2665,  ...,     0,     0,     0],\n",
            "        ...,\n",
            "        [ 2633,  1010,  1996,  ...,     0,     0,     0],\n",
            "        [ 1996,  3988,  1998,  ...,     0,     0,     0],\n",
            "        [ 2000,  7374,  1996,  ...,     0,     0,     0]], device='cuda:0')\n",
            "[1996, 13749, 12868, 2020, 2598, 1999, 2019, 12943, 3686, 14335, 1998, 1996, 9898, 2015, 2020, 8254, 14050, 2011, 2980, 2811, 8254, 17989, 2012, 4278, 30525, 2007, 1037, 4895, 2401, 14787, 2140, 3778, 1997, 3963, 6131, 2050, 2005, 1015, 3178, 1012, 0, 0, 0, 0, 0, 0, 0, 0, 0, 0, 0, 0, 0, 0, 0, 0, 0, 0, 0, 0, 0, 0, 0, 0]\n",
            "tensor([[ 1996,  4525,  8150,  ...,     0,     0,     0],\n",
            "        [ 2633,  1010,  1996,  ...,     0,     0,     0],\n",
            "        [13587,  4031,  2001,  ...,     0,     0,     0],\n",
            "        ...,\n",
            "        [ 1037, 24004,  6914,  ...,     0,     0,     0],\n",
            "        [ 2572, 26387,  9078,  ...,     0,     0,     0],\n",
            "        [ 1996, 17782,  2594,  ...,     0,     0,     0]], device='cuda:0')\n",
            "[2633, 1010, 1996, 2304, 1011, 6910, 4031, 2001, 2582, 2598, 2046, 4714, 9309, 2011, 3608, 22491, 1998, 5067, 2005, 2582, 23191, 1012, 0, 0, 0, 0, 0, 0, 0, 0, 0, 0, 0, 0, 0, 0, 0, 0, 0, 0, 0, 0, 0, 0, 0, 0, 0, 0, 0, 0, 0, 0, 0, 0, 0, 0, 0, 0, 0, 0, 0, 0, 0, 0]\n",
            "tensor([[ 2005,  7831,  1010,  ...,     0,     0,     0],\n",
            "        [ 1996,  8168,  2020,  ...,     0,     0,     0],\n",
            "        [ 3293, 18699,  2549,  ...,  2012, 13274, 30525],\n",
            "        ...,\n",
            "        [26572, 26775, 27268,  ...,     0,     0,     0],\n",
            "        [ 1996, 10099,  2020,  ...,     0,     0,     0],\n",
            "        [ 1996,  5024,  2001,  ...,     0,     0,     0]], device='cuda:0')\n",
            "[1996, 8168, 2020, 2059, 8250, 1999, 2019, 12098, 1011, 3561, 15913, 3482, 2127, 23191, 2030, 3526, 2810, 2005, 3860, 2013, 14098, 1998, 2250, 1010, 2144, 4728, 6583, 1009, 2052, 2031, 2042, 15901, 2013, 1996, 3430, 1012, 2484, 0, 0, 0, 0, 0, 0, 0, 0, 0, 0, 0, 0, 0, 0, 0, 0, 0, 0, 0, 0, 0, 0, 0, 0, 0, 0, 0]\n",
            "tensor([[22886,  2001,  4156,  ...,     0,     0,     0],\n",
            "        [ 1996, 10882,  7096,  ...,     0,     0,     0],\n",
            "        [ 8168,  2020,  4810,  ...,     0,     0,     0],\n",
            "        ...,\n",
            "        [ 1996,  4663,  9309,  ...,     0,     0,     0],\n",
            "        [ 1996,  5171,  6388,  ...,  9353, 23320,  2594],\n",
            "        [ 2044, 11520,  8100,  ...,     0,     0,     0]], device='cuda:0')\n",
            "[1996, 10882, 7096, 8156, 1997, 1996, 17462, 4005, 1998, 9345, 17822, 3370, 1997, 1996, 23735, 2435, 2019, 2471, 2317, 5024, 1006, 1015, 1012, 2538, 1043, 1007, 1012, 0, 0, 0, 0, 0, 0, 0, 0, 0, 0, 0, 0, 0, 0, 0, 0, 0, 0, 0, 0, 0, 0, 0, 0, 0, 0, 0, 0, 0, 0, 0, 0, 0, 0, 0, 0, 0]\n",
            "tensor([[10752,  1997,  4800,  ...,     0,     0,     0],\n",
            "        [ 2059,  1996, 14988,  ...,     0,     0,     0],\n",
            "        [ 4050,  1010, 18699,  ...,     0,     0,     0],\n",
            "        ...,\n",
            "        [ 1996, 18479, 19454,  ...,     0,     0,     0],\n",
            "        [ 2000,  2892, 13767,  ...,     0,     0,     0],\n",
            "        [ 2044, 11520,  2000,  ...,     0,     0,     0]], device='cuda:0')\n",
            "[2059, 1996, 14988, 2001, 2872, 1999, 14163, 18142, 17533, 2012, 2367, 10250, 28748, 3508, 4860, 1997, 4278, 30525, 1010, 3156, 30525, 1010, 5174, 30525, 2005, 1018, 1044, 1006, 1015, 30525, 8117, 1011, 1015, 1007, 2000, 6855, 2345, 3688, 1012, 0, 0, 0, 0, 0, 0, 0, 0, 0, 0, 0, 0, 0, 0, 0, 0, 0, 0, 0, 0, 0, 0, 0, 0, 0]\n",
            "tensor([[ 2969,  1011,  3320,  ...,     0,     0,     0],\n",
            "        [20868,  1006, 21677,  ...,  1006,  1059,  1007],\n",
            "        [ 4780,  1010,  3156,  ...,     0,     0,     0],\n",
            "        ...,\n",
            "        [ 2044,  1996, 30524,  ...,     0,     0,     0],\n",
            "        [ 9898,  2098,  7099,  ...,     0,     0,     0],\n",
            "        [ 8952, 14183, 15772,  ...,     0,     0,     0]], device='cuda:0')\n",
            "[20868, 1006, 21677, 2099, 21877, 22592, 1010, 4642, 1011, 1015, 1007, 1024, 29386, 2620, 1006, 1038, 1007, 1010, 25048, 2509, 1006, 1059, 1007, 1010, 20405, 2692, 1006, 1059, 1007, 1010, 28853, 1006, 1049, 1007, 1010, 18914, 2692, 1006, 1059, 1007, 1010, 16710, 2581, 1006, 1049, 1007, 1010, 16459, 2629, 1006, 1055, 1007, 1010, 16065, 2629, 1006, 1059, 1007, 1010, 16087, 2509, 1006, 1059, 1007]\n",
            "Validation loss: 1.006590826170785\n",
            "Validation Accuracy: 0.7338002232142857\n",
            "Validation F1-Score: 0.1978085351787774\n"
          ],
          "name": "stdout"
        }
      ]
    },
    {
      "cell_type": "code",
      "metadata": {
        "id": "4wpduSozgX5H",
        "colab_type": "code",
        "outputId": "70ed54f5-32bb-4803-a3ca-61b22321ebca",
        "colab": {
          "base_uri": "https://localhost:8080/",
          "height": 54
        }
      },
      "source": [
        "print(pred_tags[1][:43])"
      ],
      "execution_count": 40,
      "outputs": [
        {
          "output_type": "stream",
          "text": [
            "['O', 'O', 'operation', 'O', 'O', 'apparatus-descriptor', 'synthesis-apparatus', 'O', 'number', 'condition-unit', 'O', 'condition-misc', 'condition-misc', 'O', 'O', 'unspecified-material', 'unspecified-material', 'O', 'operation', 'O', 'O', 'apparatus-descriptor', 'apparatus-descriptor', 'apparatus-descriptor', 'apparatus-descriptor', 'apparatus-descriptor', 'apparatus-descriptor', 'synthesis-apparatus', 'O', 'operation', 'O', 'number', 'condition-unit', 'O', 'number', 'condition-unit', 'O', 'O', 'O', 'O', 'O', 'O', 'O']\n"
          ],
          "name": "stdout"
        }
      ]
    },
    {
      "cell_type": "code",
      "metadata": {
        "id": "ndFXj9hegn8w",
        "colab_type": "code",
        "outputId": "eb34c43c-ab1d-4cf0-cda6-5e889f6c5ad8",
        "colab": {
          "base_uri": "https://localhost:8080/",
          "height": 54
        }
      },
      "source": [
        "print(valid_tags[1][:43])"
      ],
      "execution_count": 41,
      "outputs": [
        {
          "output_type": "stream",
          "text": [
            "['O', 'O', 'operation', 'O', 'O', 'synthesis-apparatus', 'synthesis-apparatus', 'O', 'number', 'condition-unit', 'O', 'condition-misc', 'condition-misc', 'O', 'O', 'unspecified-material', 'unspecified-material', 'O', 'operation', 'O', 'O', 'apparatus-descriptor', 'apparatus-descriptor', 'apparatus-descriptor', 'apparatus-descriptor', 'apparatus-descriptor', 'apparatus-descriptor', 'synthesis-apparatus', 'O', 'operation', 'O', 'number', 'condition-unit', 'O', 'number', 'condition-unit', 'O', 'operation', 'O', 'number', 'condition-unit', 'O', 'O']\n"
          ],
          "name": "stdout"
        }
      ]
    },
    {
      "cell_type": "code",
      "metadata": {
        "id": "DjghZIpPtA6X",
        "colab_type": "code",
        "colab": {}
      },
      "source": [
        "ids =  [2044, 2582, 18385, 2007, 1037, 8060, 30522, 2005, 1020, 1044, 2012, 2282, 4860, 1010, 1996, 21500, 8150, 2001, 4015, 2000, 1037, 30523, 1011, 7732, 18676, 1011, 3886, 30524, 1998, 9685, 2012, 8574, 30525, 2005, 1023, 2420, 2104, 21552, 1006, 3438, 11575, 1007, 1012, 0, 0, 0, 0, 0, 0, 0, 0, 0, 0, 0, 0, 0, 0, 0, 0, 0, 0, 0, 0, 0]"
      ],
      "execution_count": 0,
      "outputs": []
    },
    {
      "cell_type": "code",
      "metadata": {
        "id": "fpuC358Y3CgJ",
        "colab_type": "code",
        "outputId": "52c1b1be-5bbd-4ef9-cd57-4bd22852952b",
        "colab": {
          "base_uri": "https://localhost:8080/",
          "height": 54
        }
      },
      "source": [
        "print(tokenizer.convert_ids_to_tokens(ids[:43]))"
      ],
      "execution_count": 39,
      "outputs": [
        {
          "output_type": "stream",
          "text": [
            "['after', 'further', 'stirring', 'with', 'a', 'magnetic', 'stirrer', 'for', '6', 'h', 'at', 'room', 'temperature', ',', 'the', 'gel', 'mixture', 'was', 'transferred', 'to', 'a', 'teflon', '-', 'lined', 'stainless', '-', 'steel', 'autoclave', 'and', 'heated', 'at', '140', 'degc', 'for', '9', 'days', 'under', 'tumbling', '(', '60', 'rpm', ')', '.']\n"
          ],
          "name": "stdout"
        }
      ]
    },
    {
      "cell_type": "markdown",
      "metadata": {
        "id": "CDxFFpKot6af",
        "colab_type": "text"
      },
      "source": [
        "# NER Visualization"
      ]
    },
    {
      "cell_type": "code",
      "metadata": {
        "id": "oNDq6_FcdOU_",
        "colab_type": "code",
        "colab": {}
      },
      "source": [
        "from spacy import displacy"
      ],
      "execution_count": 0,
      "outputs": []
    },
    {
      "cell_type": "code",
      "metadata": {
        "id": "ZzugIOkbuqxN",
        "colab_type": "code",
        "outputId": "1a165b75-8b19-4cc6-b451-2b2776f8d393",
        "colab": {
          "base_uri": "https://localhost:8080/",
          "height": 71
        }
      },
      "source": [
        "tags_uppercase = [tag.upper() for tag in tags_vals]\n",
        "print(tags_uppercase)\n",
        "print(len(tags_uppercase))"
      ],
      "execution_count": 33,
      "outputs": [
        {
          "output_type": "stream",
          "text": [
            "['NUMBER', 'O', 'PROPERTY-MISC', 'OPERATION', 'APPARATUS-PROPERTY-TYPE', 'MATERIAL', 'UNSPECIFIED-MATERIAL', 'PRECURSOR', 'CONDITION-UNIT', 'PROPERTY-TYPE', 'META', 'TARGET', 'AMOUNT-MISC', 'APPARATUS-DESCRIPTOR', 'BRAND', 'NONRECIPE-MATERIAL', 'SOLVENT', 'CONDITION-MISC', 'SYNTHESIS-APPARATUS', 'AMOUNT-UNIT', 'REFERENCE', 'APPARATUS-UNIT', 'CHARACTERIZATION-APPARATUS', 'MATERIAL-DESCRIPTOR', 'CONDITION-TYPE', 'PROPERTY-UNIT', 'GAS']\n",
            "27\n"
          ],
          "name": "stdout"
        }
      ]
    },
    {
      "cell_type": "code",
      "metadata": {
        "id": "v7RFqBiJpHn5",
        "colab_type": "code",
        "colab": {}
      },
      "source": [
        "COLORS = {\"AMOUNT-MISC\": \"linear-gradient(90deg, #aa9cfc, #fc9ce7)\",\n",
        "          \"NUMBER\": \"linear-gradient(90deg, orange, cyan)\",\n",
        "          \"AMOUNT-UNIT\": \"linear-gradient(90deg, red, orange)\",\n",
        "          \"PROPERTY-MISC\": \"linear-gradient(90deg, purple 40%, yellow)\",\n",
        "          \"MATERIAL\": \"#aa9cfc\",\n",
        "          \"NONRECIPE-MATERIAL\": \"red\",\n",
        "          \"TARGET\": \"#a4893d\",\n",
        "          \"META\": \"yellow\",\n",
        "          \"UNSPECIFIED-MATERIAL\": \"blue\",\n",
        "          \"APPARATUS-UNIT\": \"linear-gradient(90deg, #e66465, #9198e5)\",\n",
        "          \"MATERIAL-DESCRIPTOR\": \"#9198e5\",\n",
        "          \"SOLVENT\": \"#e66465\",\n",
        "          \"PROPERTY-TYPE\": \"brown\",\n",
        "          \"PRECURSOR\": \"pink\",\n",
        "          \"CONDITION-MISC\": \"#fc9ce7\",\n",
        "          \"APPARATUS-PROPERTY-TYPE\": \"orange\",\n",
        "          \"PROPERTY-UNIT\": \"linear-gradient(217deg, rgba(255,0,0,.8), rgba(255,0,0,0) 70.71%)\",\n",
        "          \"CONDITION-UNIT\": \"linear-gradient(217deg, rgba(400,0,0,.8), rgba(50,0,0,0) 70.71%)\",\n",
        "          \"APPARATUS-DESCRIPTOR\": \"#fea49f\",\n",
        "          \"SYNTHESIS-APPARATUS\": \"#bf4aa8\",\n",
        "          \"OPERATION\": \"#9e363a\",\n",
        "          \"CHARACTERIZATION-APPARATUS\": \"#4f5f76\", \n",
        "          \"BRAND\": \"#e4decd\",\n",
        "          \"CONDITION-TYPE\": \"#8bf0ba\",\n",
        "          \"GAS\": \"#ffdc6a\",\n",
        "          \"REFERENCE\": \"#feda6a\"\n",
        "         }"
      ],
      "execution_count": 0,
      "outputs": []
    },
    {
      "cell_type": "code",
      "metadata": {
        "id": "hU2k3Xs3uAXc",
        "colab_type": "code",
        "colab": {}
      },
      "source": [
        "def ner_visualize(sentence, tags, colors=COLORS):\n",
        "    sentence_concat = \" \".join(sentence)\n",
        "    ents = []\n",
        "    start = 0\n",
        "    end = 0\n",
        "    for word, tag in zip(sentence, tags):\n",
        "        end = start + len(word) - 1\n",
        "        ents.append({\"start\": start, \"end\": end+1, \"label\": tag.upper()})\n",
        "        start = end + 2\n",
        "\n",
        "    test = [{\"text\": sentence_concat,\n",
        "             \"ents\": ents,\n",
        "             \"title\": None}]\n",
        "\n",
        "    options = {\"ents\": [tag.upper() for tag in set(tags) if tag not in [\"O\"]], \"colors\": colors}\n",
        "    displacy.render(test, style=\"ent\", manual=True, options=options)"
      ],
      "execution_count": 0,
      "outputs": []
    },
    {
      "cell_type": "code",
      "metadata": {
        "id": "KWuVx2UtuFkC",
        "colab_type": "code",
        "colab": {}
      },
      "source": [
        "ner_visualize([\"Compound A\", \"was\", \"made\", \"by\", \"compound B\", \"by\", \"heating\",       \"in\", \"the furncace\",         \"at\", \"300\", \"degree\", \"celsius\", \".\"], \n",
        "              [\"TARGET\",     \"O\",   \"O\",    \"O\",  \"MATERIAL\",   \"O\",  \"CONDITION-MISC\",\"O\",  \"APPARATUS-DESCRIPTOR\", \"O\",  \"NUMBER\", \"O\", \"CONDITION-UNIT\", \"O\"])"
      ],
      "execution_count": 0,
      "outputs": []
    }
  ]
}