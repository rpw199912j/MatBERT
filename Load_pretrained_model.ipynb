{
 "cells": [
  {
   "cell_type": "markdown",
   "metadata": {},
   "source": [
    "# Load modules and model"
   ]
  },
  {
   "cell_type": "code",
   "execution_count": 1,
   "metadata": {
    "scrolled": false
   },
   "outputs": [],
   "source": [
    "# !pip3 install --upgrade pip\n",
    "# !pip3 install pytorch-transformers\n",
    "# !pip3 install spacy"
   ]
  },
  {
   "cell_type": "code",
   "execution_count": 2,
   "metadata": {
    "collapsed": true
   },
   "outputs": [
    {
     "name": "stderr",
     "output_type": "stream",
     "text": [
      "Using TensorFlow backend.\n",
      "/Library/Frameworks/Python.framework/Versions/3.7/lib/python3.7/site-packages/tensorflow/python/framework/dtypes.py:516: FutureWarning: Passing (type, 1) or '1type' as a synonym of type is deprecated; in a future version of numpy, it will be understood as (type, (1,)) / '(1,)type'.\n",
      "  _np_qint8 = np.dtype([(\"qint8\", np.int8, 1)])\n",
      "/Library/Frameworks/Python.framework/Versions/3.7/lib/python3.7/site-packages/tensorflow/python/framework/dtypes.py:517: FutureWarning: Passing (type, 1) or '1type' as a synonym of type is deprecated; in a future version of numpy, it will be understood as (type, (1,)) / '(1,)type'.\n",
      "  _np_quint8 = np.dtype([(\"quint8\", np.uint8, 1)])\n",
      "/Library/Frameworks/Python.framework/Versions/3.7/lib/python3.7/site-packages/tensorflow/python/framework/dtypes.py:518: FutureWarning: Passing (type, 1) or '1type' as a synonym of type is deprecated; in a future version of numpy, it will be understood as (type, (1,)) / '(1,)type'.\n",
      "  _np_qint16 = np.dtype([(\"qint16\", np.int16, 1)])\n",
      "/Library/Frameworks/Python.framework/Versions/3.7/lib/python3.7/site-packages/tensorflow/python/framework/dtypes.py:519: FutureWarning: Passing (type, 1) or '1type' as a synonym of type is deprecated; in a future version of numpy, it will be understood as (type, (1,)) / '(1,)type'.\n",
      "  _np_quint16 = np.dtype([(\"quint16\", np.uint16, 1)])\n",
      "/Library/Frameworks/Python.framework/Versions/3.7/lib/python3.7/site-packages/tensorflow/python/framework/dtypes.py:520: FutureWarning: Passing (type, 1) or '1type' as a synonym of type is deprecated; in a future version of numpy, it will be understood as (type, (1,)) / '(1,)type'.\n",
      "  _np_qint32 = np.dtype([(\"qint32\", np.int32, 1)])\n",
      "/Library/Frameworks/Python.framework/Versions/3.7/lib/python3.7/site-packages/tensorflow/python/framework/dtypes.py:525: FutureWarning: Passing (type, 1) or '1type' as a synonym of type is deprecated; in a future version of numpy, it will be understood as (type, (1,)) / '(1,)type'.\n",
      "  np_resource = np.dtype([(\"resource\", np.ubyte, 1)])\n",
      "/Library/Frameworks/Python.framework/Versions/3.7/lib/python3.7/site-packages/tensorboard/compat/tensorflow_stub/dtypes.py:541: FutureWarning: Passing (type, 1) or '1type' as a synonym of type is deprecated; in a future version of numpy, it will be understood as (type, (1,)) / '(1,)type'.\n",
      "  _np_qint8 = np.dtype([(\"qint8\", np.int8, 1)])\n",
      "/Library/Frameworks/Python.framework/Versions/3.7/lib/python3.7/site-packages/tensorboard/compat/tensorflow_stub/dtypes.py:542: FutureWarning: Passing (type, 1) or '1type' as a synonym of type is deprecated; in a future version of numpy, it will be understood as (type, (1,)) / '(1,)type'.\n",
      "  _np_quint8 = np.dtype([(\"quint8\", np.uint8, 1)])\n",
      "/Library/Frameworks/Python.framework/Versions/3.7/lib/python3.7/site-packages/tensorboard/compat/tensorflow_stub/dtypes.py:543: FutureWarning: Passing (type, 1) or '1type' as a synonym of type is deprecated; in a future version of numpy, it will be understood as (type, (1,)) / '(1,)type'.\n",
      "  _np_qint16 = np.dtype([(\"qint16\", np.int16, 1)])\n",
      "/Library/Frameworks/Python.framework/Versions/3.7/lib/python3.7/site-packages/tensorboard/compat/tensorflow_stub/dtypes.py:544: FutureWarning: Passing (type, 1) or '1type' as a synonym of type is deprecated; in a future version of numpy, it will be understood as (type, (1,)) / '(1,)type'.\n",
      "  _np_quint16 = np.dtype([(\"quint16\", np.uint16, 1)])\n",
      "/Library/Frameworks/Python.framework/Versions/3.7/lib/python3.7/site-packages/tensorboard/compat/tensorflow_stub/dtypes.py:545: FutureWarning: Passing (type, 1) or '1type' as a synonym of type is deprecated; in a future version of numpy, it will be understood as (type, (1,)) / '(1,)type'.\n",
      "  _np_qint32 = np.dtype([(\"qint32\", np.int32, 1)])\n",
      "/Library/Frameworks/Python.framework/Versions/3.7/lib/python3.7/site-packages/tensorboard/compat/tensorflow_stub/dtypes.py:550: FutureWarning: Passing (type, 1) or '1type' as a synonym of type is deprecated; in a future version of numpy, it will be understood as (type, (1,)) / '(1,)type'.\n",
      "  np_resource = np.dtype([(\"resource\", np.ubyte, 1)])\n"
     ]
    }
   ],
   "source": [
    "import os\n",
    "import torch\n",
    "import numpy as np\n",
    "import pandas as pd\n",
    "from spacy import displacy\n",
    "from keras.preprocessing.sequence import pad_sequences\n",
    "from pytorch_transformers import BertTokenizer, BertConfig, BertForTokenClassification"
   ]
  },
  {
   "cell_type": "code",
   "execution_count": 3,
   "metadata": {},
   "outputs": [],
   "source": [
    "MODEL_DIR = \"./ner_models/model_1/\"\n",
    "MAX_LEN = 64"
   ]
  },
  {
   "cell_type": "code",
   "execution_count": 4,
   "metadata": {},
   "outputs": [],
   "source": [
    "model = BertForTokenClassification.from_pretrained(MODEL_DIR)\n",
    "tokenizer = BertTokenizer.from_pretrained(MODEL_DIR, do_lower_case=True)\n",
    "tags_vals = ['B-brand', 'B-reference', 'I-property_type', 'I-operation', 'B-precursor', 'I-unspecified_material', \n",
    "             'I-property_misc', 'B-synthesis_apparatus', 'B-target', 'B-characterization_apparatus', 'I-synthesis_apparatus', \n",
    "             'B-number', 'B-meta', 'I-property_unit', 'I-number', 'I-material', 'B-unspecified_material', 'B-condition_unit', 'I-solvent', \n",
    "             'B-amount_misc', 'I-amount_misc', 'B-solvent', 'B-nonrecipe_material', 'B-condition_misc', 'I-apparatus_unit', \n",
    "             'I-apparatus_descriptor', 'B-operation', 'B-material', 'I-condition_misc', 'I-nonrecipe_material', 'O', 'B-apparatus_unit', \n",
    "             'I-meta', 'I-apparatus_property_type', 'I-amount_unit', 'I-brand', 'B-property_misc', 'B-amount_unit', 'B-apparatus_property_type', \n",
    "             'I-material_descriptor', 'I-condition_unit', 'B-property_unit', 'B-condition_type', 'B-apparatus_descriptor', \n",
    "             'B-material_descriptor', 'I-reference', 'B-property_type', 'I-gas', 'I-precursor', 'I-condition_type', 'I-characterization_apparatus', \n",
    "             'B-gas', 'I-target', 'X']"
   ]
  },
  {
   "cell_type": "markdown",
   "metadata": {},
   "source": [
    "# Make predictions"
   ]
  },
  {
   "cell_type": "code",
   "execution_count": 5,
   "metadata": {},
   "outputs": [],
   "source": [
    "def predict(untokenized_text, model, tokenizer, tags_vals):\n",
    "    predictions = []\n",
    "    \n",
    "    tokenized_text = [tokenizer.tokenize(sentence) for sentence in untokenized_text]\n",
    "    tokenized_length = [len(sent) for sent in tokenized_text]\n",
    "#     print(tokenized_text)\n",
    "    input_ids = pad_sequences([tokenizer.convert_tokens_to_ids(txt) for txt in tokenized_text], \n",
    "                              maxlen=MAX_LEN, dtype=\"long\", truncating=\"post\", padding=\"post\")\n",
    "#     print(input_ids)\n",
    "    attention_masks = [[float(i > 0) for i in ii] for ii in input_ids]\n",
    "#     print(attention_masks)\n",
    "    \n",
    "    inputs_tensor = torch.tensor(input_ids)\n",
    "    attention_tensor = torch.tensor(attention_masks)\n",
    "    device = torch.device(\"cuda\" if torch.cuda.is_available() else \"cpu\")\n",
    "    token_tensor = inputs_tensor.to(device)\n",
    "    attention_masks = attention_tensor.to(device)\n",
    "    model.to(device)\n",
    "    model.eval()\n",
    "    \n",
    "    with torch.no_grad():\n",
    "        outputs = model(token_tensor, attention_mask=attention_masks)[:2]\n",
    "    logits = outputs[0]\n",
    "    logits = logits.detach().cpu().numpy()\n",
    "    predictions.extend([list(p) for p in np.argmax(logits, axis=2)])\n",
    "#     print(predictions)\n",
    "    prediction_tags = [[tags_vals[p_i] for p_i in p] for p in predictions]\n",
    "    prediction_tags = [sent[:end_number] for sent, end_number in zip(prediction_tags, tokenized_length)]\n",
    "    \n",
    "    return {\"tags\": prediction_tags,\n",
    "            \"original_sent\": tokenized_text}"
   ]
  },
  {
   "cell_type": "code",
   "execution_count": 6,
   "metadata": {},
   "outputs": [],
   "source": [
    "input_sentences = [\"\"\"The addition of a small amount of CuO can effectively lower the sintering \n",
    "                   temperature of LLZWO to 1120 °C and reduce sintering time to 6 h.\"\"\", \n",
    "                   \"\"\"However, LLZO samples prepared via conventional ambient air sintering reported in the published \n",
    "                   literature often contain large grains with lower than desired (<94%) relative density.\"\"\"]"
   ]
  },
  {
   "cell_type": "code",
   "execution_count": 7,
   "metadata": {},
   "outputs": [],
   "source": [
    "pred = predict(input_sentences, model, tokenizer, tags_vals)"
   ]
  },
  {
   "cell_type": "code",
   "execution_count": 8,
   "metadata": {},
   "outputs": [
    {
     "name": "stdout",
     "output_type": "stream",
     "text": [
      "['O', 'B-operation', 'O', 'O', 'O', 'I-amount_misc', 'O', 'B-target', 'X', 'O', 'O', 'O', 'O', 'B-operation', 'X', 'I-condition_misc', 'O', 'X', 'X', 'X', 'O', 'O', 'X', 'X', 'X', 'O', 'O', 'B-operation', 'X', 'O', 'O', 'B-number', 'B-condition_unit', 'O']\n",
      "['the', 'addition', 'of', 'a', 'small', 'amount', 'of', 'cu', '##o', 'can', 'effectively', 'lower', 'the', 'sin', '##tering', 'temperature', 'of', 'll', '##zw', '##o', 'to', '112', '##0', '°', '##c', 'and', 'reduce', 'sin', '##tering', 'time', 'to', '6', 'h', '.']\n"
     ]
    }
   ],
   "source": [
    "print(pred[\"tags\"][0])\n",
    "print(pred[\"original_sent\"][0])"
   ]
  },
  {
   "cell_type": "code",
   "execution_count": 9,
   "metadata": {},
   "outputs": [],
   "source": [
    "def give_table(pred):\n",
    "    tags = pred[\"tags\"]\n",
    "    sents = pred[\"original_sent\"]\n",
    "    tags = [label for tag in tags for label in tag]\n",
    "    sents = [word for words in sents for word in words]\n",
    "    tuples = list(zip(sents, tags))\n",
    "    df = pd.DataFrame(tuples, columns=[\"Word\", \"Label\"], index=None)\n",
    "    return {\"df\":df,\n",
    "           \"words\": sents,\n",
    "           \"tags\": tags}"
   ]
  },
  {
   "cell_type": "code",
   "execution_count": 10,
   "metadata": {},
   "outputs": [
    {
     "name": "stdout",
     "output_type": "stream",
     "text": [
      "            Word                   Label\n",
      "0            the                       O\n",
      "1       addition             B-operation\n",
      "2             of                       O\n",
      "3              a                       O\n",
      "4          small                       O\n",
      "5         amount           I-amount_misc\n",
      "6             of                       O\n",
      "7             cu                B-target\n",
      "8            ##o                       X\n",
      "9            can                       O\n",
      "10   effectively                       O\n",
      "11         lower                       O\n",
      "12           the                       O\n",
      "13           sin             B-operation\n",
      "14      ##tering                       X\n",
      "15   temperature        I-condition_misc\n",
      "16            of                       O\n",
      "17            ll                       X\n",
      "18          ##zw                       X\n",
      "19           ##o                       X\n",
      "20            to                       O\n",
      "21           112                       O\n",
      "22           ##0                       X\n",
      "23             °                       X\n",
      "24           ##c                       X\n",
      "25           and                       O\n",
      "26        reduce                       O\n",
      "27           sin             B-operation\n",
      "28      ##tering                       X\n",
      "29          time                       O\n",
      "..           ...                     ...\n",
      "37          ##zo                       X\n",
      "38       samples  B-unspecified_material\n",
      "39      prepared             B-operation\n",
      "40           via                       O\n",
      "41  conventional                       O\n",
      "42       ambient                       O\n",
      "43           air                   B-gas\n",
      "44           sin                 B-brand\n",
      "45      ##tering                       X\n",
      "46      reported                       O\n",
      "47            in                       O\n",
      "48           the                       O\n",
      "49     published                       O\n",
      "50    literature                       O\n",
      "51         often                       X\n",
      "52       contain                       O\n",
      "53         large                       O\n",
      "54        grains                B-number\n",
      "55          with                       O\n",
      "56         lower                       O\n",
      "57          than                       O\n",
      "58       desired                       O\n",
      "59             (                       O\n",
      "60             <                       O\n",
      "61            94                       X\n",
      "62             %           B-amount_unit\n",
      "63             )                       O\n",
      "64      relative                       O\n",
      "65       density                       O\n",
      "66             .                       O\n",
      "\n",
      "[67 rows x 2 columns]\n"
     ]
    }
   ],
   "source": [
    "results = give_table(pred)\n",
    "print(results[\"df\"])"
   ]
  },
  {
   "cell_type": "markdown",
   "metadata": {},
   "source": [
    "# Visualization of tagging"
   ]
  },
  {
   "cell_type": "code",
   "execution_count": 11,
   "metadata": {},
   "outputs": [],
   "source": [
    "COLORS = {\"AMOUNT_MISC\": \"linear-gradient(90deg, #aa9cfc, #fc9ce7)\",\n",
    "          \"NUMBER\": \"linear-gradient(90deg, orange, cyan)\",\n",
    "          \"AMOUNT_UNIT\": \"linear-gradient(90deg, red, orange)\",\n",
    "          \"PROPERTY_MISC\": \"linear-gradient(90deg, purple 40%, yellow)\",\n",
    "          \"MATERIAL\": \"#aa9cfc\",\n",
    "          \"NONRECIPE_MATERIAL\": \"red\",\n",
    "          \"TARGET\": \"#a4893d\",\n",
    "          \"META\": \"yellow\",\n",
    "          \"UNSPECIFIED_MATERIAL\": \"#0074D9\",\n",
    "          \"APPARATUS_UNIT\": \"linear-gradient(90deg, #e66465, #9198e5)\",\n",
    "          \"MATERIAL_DESCRIPTOR\": \"#9198e5\",\n",
    "          \"SOLVENT\": \"#e66465\",\n",
    "          \"PROPERTY_TYPE\": \"brown\",\n",
    "          \"PRECURSOR\": \"pink\",\n",
    "          \"CONDITION_MISC\": \"#fc9ce7\",\n",
    "          \"APPARATUS_PROPERTY_TYPE\": \"orange\",\n",
    "          \"PROPERTY_UNIT\": \"linear-gradient(217deg, rgba(255,0,0,.8), rgba(255,0,0,0) 70.71%)\",\n",
    "          \"CONDITION_UNIT\": \"linear-gradient(217deg, rgba(800,0,0,.8), yellow 70.71%)\",\n",
    "          \"APPARATUS_DESCRIPTOR\": \"#fea49f\",\n",
    "          \"SYNTHESIS_APPARATUS\": \"#bf4aa8\",\n",
    "          \"OPERATION\": \"#ce9aff\",\n",
    "          \"CHARACTERIZATION_APPARATUS\": \"#4f5f76\",\n",
    "          \"BRAND\": \"#e4decd\",\n",
    "          \"CONDITION_TYPE\": \"#8bf0ba\",\n",
    "          \"GAS\": \"#ffdc6a\",\n",
    "          \"REFERENCE\": \"#feda6a\"\n",
    "          }"
   ]
  },
  {
   "cell_type": "code",
   "execution_count": 12,
   "metadata": {},
   "outputs": [],
   "source": [
    "def ner_visualize(sentence, tags, colors=COLORS):\n",
    "    sentence_concat = \" \".join(sentence)\n",
    "    ents = []\n",
    "    start = 0\n",
    "    end = 0\n",
    "    for word, tag in zip(sentence, tags):\n",
    "        end = start + len(word) - 1\n",
    "        ents.append({\"start\": start, \"end\": end+1,\n",
    "                     \"label\": tag[2:].upper() if tag != \"O\" else tag.upper()})\n",
    "        start = end + 2\n",
    "\n",
    "    test = [{\"text\": sentence_concat,\n",
    "             \"ents\": ents,\n",
    "             \"title\": None}]\n",
    "\n",
    "    options = {\"ents\": [tag[2:].upper() for tag in set(tags) if tag not in [\"O\"]], \"colors\": colors}\n",
    "    displacy.render(test, style=\"ent\", manual=True, options=options)"
   ]
  },
  {
   "cell_type": "code",
   "execution_count": 13,
   "metadata": {},
   "outputs": [
    {
     "data": {
      "text/html": [
       "<div class=\"entities\" style=\"line-height: 2.5; direction: ltr\">the \n",
       "<mark class=\"entity\" style=\"background: #ce9aff; padding: 0.45em 0.6em; margin: 0 0.25em; line-height: 1; border-radius: 0.35em; box-decoration-break: clone; -webkit-box-decoration-break: clone\">\n",
       "    addition\n",
       "    <span style=\"font-size: 0.8em; font-weight: bold; line-height: 1; border-radius: 0.35em; text-transform: uppercase; vertical-align: middle; margin-left: 0.5rem\">OPERATION</span>\n",
       "</mark>\n",
       " of a small \n",
       "<mark class=\"entity\" style=\"background: linear-gradient(90deg, #aa9cfc, #fc9ce7); padding: 0.45em 0.6em; margin: 0 0.25em; line-height: 1; border-radius: 0.35em; box-decoration-break: clone; -webkit-box-decoration-break: clone\">\n",
       "    amount\n",
       "    <span style=\"font-size: 0.8em; font-weight: bold; line-height: 1; border-radius: 0.35em; text-transform: uppercase; vertical-align: middle; margin-left: 0.5rem\">AMOUNT_MISC</span>\n",
       "</mark>\n",
       " of \n",
       "<mark class=\"entity\" style=\"background: #a4893d; padding: 0.45em 0.6em; margin: 0 0.25em; line-height: 1; border-radius: 0.35em; box-decoration-break: clone; -webkit-box-decoration-break: clone\">\n",
       "    cu\n",
       "    <span style=\"font-size: 0.8em; font-weight: bold; line-height: 1; border-radius: 0.35em; text-transform: uppercase; vertical-align: middle; margin-left: 0.5rem\">TARGET</span>\n",
       "</mark>\n",
       " \n",
       "<mark class=\"entity\" style=\"background: #ddd; padding: 0.45em 0.6em; margin: 0 0.25em; line-height: 1; border-radius: 0.35em; box-decoration-break: clone; -webkit-box-decoration-break: clone\">\n",
       "    ##o\n",
       "    <span style=\"font-size: 0.8em; font-weight: bold; line-height: 1; border-radius: 0.35em; text-transform: uppercase; vertical-align: middle; margin-left: 0.5rem\"></span>\n",
       "</mark>\n",
       " can effectively lower the \n",
       "<mark class=\"entity\" style=\"background: #ce9aff; padding: 0.45em 0.6em; margin: 0 0.25em; line-height: 1; border-radius: 0.35em; box-decoration-break: clone; -webkit-box-decoration-break: clone\">\n",
       "    sin\n",
       "    <span style=\"font-size: 0.8em; font-weight: bold; line-height: 1; border-radius: 0.35em; text-transform: uppercase; vertical-align: middle; margin-left: 0.5rem\">OPERATION</span>\n",
       "</mark>\n",
       " \n",
       "<mark class=\"entity\" style=\"background: #ddd; padding: 0.45em 0.6em; margin: 0 0.25em; line-height: 1; border-radius: 0.35em; box-decoration-break: clone; -webkit-box-decoration-break: clone\">\n",
       "    ##tering\n",
       "    <span style=\"font-size: 0.8em; font-weight: bold; line-height: 1; border-radius: 0.35em; text-transform: uppercase; vertical-align: middle; margin-left: 0.5rem\"></span>\n",
       "</mark>\n",
       " \n",
       "<mark class=\"entity\" style=\"background: #fc9ce7; padding: 0.45em 0.6em; margin: 0 0.25em; line-height: 1; border-radius: 0.35em; box-decoration-break: clone; -webkit-box-decoration-break: clone\">\n",
       "    temperature\n",
       "    <span style=\"font-size: 0.8em; font-weight: bold; line-height: 1; border-radius: 0.35em; text-transform: uppercase; vertical-align: middle; margin-left: 0.5rem\">CONDITION_MISC</span>\n",
       "</mark>\n",
       " of \n",
       "<mark class=\"entity\" style=\"background: #ddd; padding: 0.45em 0.6em; margin: 0 0.25em; line-height: 1; border-radius: 0.35em; box-decoration-break: clone; -webkit-box-decoration-break: clone\">\n",
       "    ll\n",
       "    <span style=\"font-size: 0.8em; font-weight: bold; line-height: 1; border-radius: 0.35em; text-transform: uppercase; vertical-align: middle; margin-left: 0.5rem\"></span>\n",
       "</mark>\n",
       " \n",
       "<mark class=\"entity\" style=\"background: #ddd; padding: 0.45em 0.6em; margin: 0 0.25em; line-height: 1; border-radius: 0.35em; box-decoration-break: clone; -webkit-box-decoration-break: clone\">\n",
       "    ##zw\n",
       "    <span style=\"font-size: 0.8em; font-weight: bold; line-height: 1; border-radius: 0.35em; text-transform: uppercase; vertical-align: middle; margin-left: 0.5rem\"></span>\n",
       "</mark>\n",
       " \n",
       "<mark class=\"entity\" style=\"background: #ddd; padding: 0.45em 0.6em; margin: 0 0.25em; line-height: 1; border-radius: 0.35em; box-decoration-break: clone; -webkit-box-decoration-break: clone\">\n",
       "    ##o\n",
       "    <span style=\"font-size: 0.8em; font-weight: bold; line-height: 1; border-radius: 0.35em; text-transform: uppercase; vertical-align: middle; margin-left: 0.5rem\"></span>\n",
       "</mark>\n",
       " to 112 \n",
       "<mark class=\"entity\" style=\"background: #ddd; padding: 0.45em 0.6em; margin: 0 0.25em; line-height: 1; border-radius: 0.35em; box-decoration-break: clone; -webkit-box-decoration-break: clone\">\n",
       "    ##0\n",
       "    <span style=\"font-size: 0.8em; font-weight: bold; line-height: 1; border-radius: 0.35em; text-transform: uppercase; vertical-align: middle; margin-left: 0.5rem\"></span>\n",
       "</mark>\n",
       " \n",
       "<mark class=\"entity\" style=\"background: #ddd; padding: 0.45em 0.6em; margin: 0 0.25em; line-height: 1; border-radius: 0.35em; box-decoration-break: clone; -webkit-box-decoration-break: clone\">\n",
       "    °\n",
       "    <span style=\"font-size: 0.8em; font-weight: bold; line-height: 1; border-radius: 0.35em; text-transform: uppercase; vertical-align: middle; margin-left: 0.5rem\"></span>\n",
       "</mark>\n",
       " \n",
       "<mark class=\"entity\" style=\"background: #ddd; padding: 0.45em 0.6em; margin: 0 0.25em; line-height: 1; border-radius: 0.35em; box-decoration-break: clone; -webkit-box-decoration-break: clone\">\n",
       "    ##c\n",
       "    <span style=\"font-size: 0.8em; font-weight: bold; line-height: 1; border-radius: 0.35em; text-transform: uppercase; vertical-align: middle; margin-left: 0.5rem\"></span>\n",
       "</mark>\n",
       " and reduce \n",
       "<mark class=\"entity\" style=\"background: #ce9aff; padding: 0.45em 0.6em; margin: 0 0.25em; line-height: 1; border-radius: 0.35em; box-decoration-break: clone; -webkit-box-decoration-break: clone\">\n",
       "    sin\n",
       "    <span style=\"font-size: 0.8em; font-weight: bold; line-height: 1; border-radius: 0.35em; text-transform: uppercase; vertical-align: middle; margin-left: 0.5rem\">OPERATION</span>\n",
       "</mark>\n",
       " \n",
       "<mark class=\"entity\" style=\"background: #ddd; padding: 0.45em 0.6em; margin: 0 0.25em; line-height: 1; border-radius: 0.35em; box-decoration-break: clone; -webkit-box-decoration-break: clone\">\n",
       "    ##tering\n",
       "    <span style=\"font-size: 0.8em; font-weight: bold; line-height: 1; border-radius: 0.35em; text-transform: uppercase; vertical-align: middle; margin-left: 0.5rem\"></span>\n",
       "</mark>\n",
       " time to \n",
       "<mark class=\"entity\" style=\"background: linear-gradient(90deg, orange, cyan); padding: 0.45em 0.6em; margin: 0 0.25em; line-height: 1; border-radius: 0.35em; box-decoration-break: clone; -webkit-box-decoration-break: clone\">\n",
       "    6\n",
       "    <span style=\"font-size: 0.8em; font-weight: bold; line-height: 1; border-radius: 0.35em; text-transform: uppercase; vertical-align: middle; margin-left: 0.5rem\">NUMBER</span>\n",
       "</mark>\n",
       " \n",
       "<mark class=\"entity\" style=\"background: linear-gradient(217deg, rgba(800,0,0,.8), yellow 70.71%); padding: 0.45em 0.6em; margin: 0 0.25em; line-height: 1; border-radius: 0.35em; box-decoration-break: clone; -webkit-box-decoration-break: clone\">\n",
       "    h\n",
       "    <span style=\"font-size: 0.8em; font-weight: bold; line-height: 1; border-radius: 0.35em; text-transform: uppercase; vertical-align: middle; margin-left: 0.5rem\">CONDITION_UNIT</span>\n",
       "</mark>\n",
       " . however , \n",
       "<mark class=\"entity\" style=\"background: #ddd; padding: 0.45em 0.6em; margin: 0 0.25em; line-height: 1; border-radius: 0.35em; box-decoration-break: clone; -webkit-box-decoration-break: clone\">\n",
       "    ll\n",
       "    <span style=\"font-size: 0.8em; font-weight: bold; line-height: 1; border-radius: 0.35em; text-transform: uppercase; vertical-align: middle; margin-left: 0.5rem\"></span>\n",
       "</mark>\n",
       " \n",
       "<mark class=\"entity\" style=\"background: #ddd; padding: 0.45em 0.6em; margin: 0 0.25em; line-height: 1; border-radius: 0.35em; box-decoration-break: clone; -webkit-box-decoration-break: clone\">\n",
       "    ##zo\n",
       "    <span style=\"font-size: 0.8em; font-weight: bold; line-height: 1; border-radius: 0.35em; text-transform: uppercase; vertical-align: middle; margin-left: 0.5rem\"></span>\n",
       "</mark>\n",
       " \n",
       "<mark class=\"entity\" style=\"background: #0074D9; padding: 0.45em 0.6em; margin: 0 0.25em; line-height: 1; border-radius: 0.35em; box-decoration-break: clone; -webkit-box-decoration-break: clone\">\n",
       "    samples\n",
       "    <span style=\"font-size: 0.8em; font-weight: bold; line-height: 1; border-radius: 0.35em; text-transform: uppercase; vertical-align: middle; margin-left: 0.5rem\">UNSPECIFIED_MATERIAL</span>\n",
       "</mark>\n",
       " \n",
       "<mark class=\"entity\" style=\"background: #ce9aff; padding: 0.45em 0.6em; margin: 0 0.25em; line-height: 1; border-radius: 0.35em; box-decoration-break: clone; -webkit-box-decoration-break: clone\">\n",
       "    prepared\n",
       "    <span style=\"font-size: 0.8em; font-weight: bold; line-height: 1; border-radius: 0.35em; text-transform: uppercase; vertical-align: middle; margin-left: 0.5rem\">OPERATION</span>\n",
       "</mark>\n",
       " via conventional ambient \n",
       "<mark class=\"entity\" style=\"background: #ffdc6a; padding: 0.45em 0.6em; margin: 0 0.25em; line-height: 1; border-radius: 0.35em; box-decoration-break: clone; -webkit-box-decoration-break: clone\">\n",
       "    air\n",
       "    <span style=\"font-size: 0.8em; font-weight: bold; line-height: 1; border-radius: 0.35em; text-transform: uppercase; vertical-align: middle; margin-left: 0.5rem\">GAS</span>\n",
       "</mark>\n",
       " \n",
       "<mark class=\"entity\" style=\"background: #e4decd; padding: 0.45em 0.6em; margin: 0 0.25em; line-height: 1; border-radius: 0.35em; box-decoration-break: clone; -webkit-box-decoration-break: clone\">\n",
       "    sin\n",
       "    <span style=\"font-size: 0.8em; font-weight: bold; line-height: 1; border-radius: 0.35em; text-transform: uppercase; vertical-align: middle; margin-left: 0.5rem\">BRAND</span>\n",
       "</mark>\n",
       " \n",
       "<mark class=\"entity\" style=\"background: #ddd; padding: 0.45em 0.6em; margin: 0 0.25em; line-height: 1; border-radius: 0.35em; box-decoration-break: clone; -webkit-box-decoration-break: clone\">\n",
       "    ##tering\n",
       "    <span style=\"font-size: 0.8em; font-weight: bold; line-height: 1; border-radius: 0.35em; text-transform: uppercase; vertical-align: middle; margin-left: 0.5rem\"></span>\n",
       "</mark>\n",
       " reported in the published literature \n",
       "<mark class=\"entity\" style=\"background: #ddd; padding: 0.45em 0.6em; margin: 0 0.25em; line-height: 1; border-radius: 0.35em; box-decoration-break: clone; -webkit-box-decoration-break: clone\">\n",
       "    often\n",
       "    <span style=\"font-size: 0.8em; font-weight: bold; line-height: 1; border-radius: 0.35em; text-transform: uppercase; vertical-align: middle; margin-left: 0.5rem\"></span>\n",
       "</mark>\n",
       " contain large \n",
       "<mark class=\"entity\" style=\"background: linear-gradient(90deg, orange, cyan); padding: 0.45em 0.6em; margin: 0 0.25em; line-height: 1; border-radius: 0.35em; box-decoration-break: clone; -webkit-box-decoration-break: clone\">\n",
       "    grains\n",
       "    <span style=\"font-size: 0.8em; font-weight: bold; line-height: 1; border-radius: 0.35em; text-transform: uppercase; vertical-align: middle; margin-left: 0.5rem\">NUMBER</span>\n",
       "</mark>\n",
       " with lower than desired ( &lt; \n",
       "<mark class=\"entity\" style=\"background: #ddd; padding: 0.45em 0.6em; margin: 0 0.25em; line-height: 1; border-radius: 0.35em; box-decoration-break: clone; -webkit-box-decoration-break: clone\">\n",
       "    94\n",
       "    <span style=\"font-size: 0.8em; font-weight: bold; line-height: 1; border-radius: 0.35em; text-transform: uppercase; vertical-align: middle; margin-left: 0.5rem\"></span>\n",
       "</mark>\n",
       " \n",
       "<mark class=\"entity\" style=\"background: linear-gradient(90deg, red, orange); padding: 0.45em 0.6em; margin: 0 0.25em; line-height: 1; border-radius: 0.35em; box-decoration-break: clone; -webkit-box-decoration-break: clone\">\n",
       "    %\n",
       "    <span style=\"font-size: 0.8em; font-weight: bold; line-height: 1; border-radius: 0.35em; text-transform: uppercase; vertical-align: middle; margin-left: 0.5rem\">AMOUNT_UNIT</span>\n",
       "</mark>\n",
       " ) relative density .</div>"
      ],
      "text/plain": [
       "<IPython.core.display.HTML object>"
      ]
     },
     "metadata": {},
     "output_type": "display_data"
    }
   ],
   "source": [
    "ner_visualize(results[\"words\"], results[\"tags\"])"
   ]
  }
 ],
 "metadata": {
  "kernelspec": {
   "display_name": "Python 3",
   "language": "python",
   "name": "python3"
  },
  "language_info": {
   "codemirror_mode": {
    "name": "ipython",
    "version": 3
   },
   "file_extension": ".py",
   "mimetype": "text/x-python",
   "name": "python",
   "nbconvert_exporter": "python",
   "pygments_lexer": "ipython3",
   "version": "3.7.0"
  }
 },
 "nbformat": 4,
 "nbformat_minor": 2
}
